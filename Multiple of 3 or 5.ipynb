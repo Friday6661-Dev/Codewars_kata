{
  "nbformat": 4,
  "nbformat_minor": 0,
  "metadata": {
    "colab": {
      "name": "Untitled5.ipynb",
      "provenance": [],
      "authorship_tag": "ABX9TyM4MQie3IWHkczqYVmnSt5w"
    },
    "kernelspec": {
      "name": "python3",
      "display_name": "Python 3"
    },
    "language_info": {
      "name": "python"
    }
  },
  "cells": [
    {
      "cell_type": "markdown",
      "metadata": {
        "id": "FY2Afcq0DMSk"
      },
      "source": [
        "# Multiple of 3 or 5"
      ]
    },
    {
      "cell_type": "code",
      "metadata": {
        "id": "wxE1kV8XDLf7"
      },
      "source": [
        "def solution(number):\n",
        "    result = []\n",
        "    for i in range(3, number):\n",
        "        if i % 3 == 0:\n",
        "            result.append(i)\n",
        "        elif i % 5 == 0:\n",
        "            result.append(i)\n",
        "        else:\n",
        "            continue\n",
        "    return sum(result)"
      ],
      "execution_count": 9,
      "outputs": []
    },
    {
      "cell_type": "code",
      "metadata": {
        "colab": {
          "base_uri": "https://localhost:8080/"
        },
        "id": "5nuGCAbMDWZ5",
        "outputId": "35014697-eb78-4899-88de-03a59c615a13"
      },
      "source": [
        "solution(10)"
      ],
      "execution_count": 11,
      "outputs": [
        {
          "output_type": "execute_result",
          "data": {
            "text/plain": [
              "23"
            ]
          },
          "metadata": {},
          "execution_count": 11
        }
      ]
    }
  ]
}