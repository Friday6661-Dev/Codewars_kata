{
  "nbformat": 4,
  "nbformat_minor": 0,
  "metadata": {
    "colab": {
      "name": "Untitled5.ipynb",
      "provenance": [],
      "authorship_tag": "ABX9TyPOoujWhnBlrWIaYgA4P2p6"
    },
    "kernelspec": {
      "name": "python3",
      "display_name": "Python 3"
    },
    "language_info": {
      "name": "python"
    }
  },
  "cells": [
    {
      "cell_type": "markdown",
      "metadata": {
        "id": "FY2Afcq0DMSk"
      },
      "source": [
        "#Complementary DNA"
      ]
    },
    {
      "cell_type": "code",
      "metadata": {
        "id": "wxE1kV8XDLf7"
      },
      "source": [
        "def DNA_strand(dna):\n",
        "    c = ''\n",
        "    for i in dna.upper():\n",
        "        if i == 'G':\n",
        "            c = c + 'C' \n",
        "        elif i == 'T':\n",
        "            c = c + ( 'A')\n",
        "        elif i == 'C':\n",
        "            c = c + ('G')\n",
        "        elif i == 'A':\n",
        "            c = c + ('T')\n",
        "        else:\n",
        "            pass\n",
        "    return c"
      ],
      "execution_count": 12,
      "outputs": []
    },
    {
      "cell_type": "code",
      "metadata": {
        "colab": {
          "base_uri": "https://localhost:8080/",
          "height": 35
        },
        "id": "5nuGCAbMDWZ5",
        "outputId": "f044df68-b49a-4f91-d36d-643ffe2838e3"
      },
      "source": [
        "DNA_strand('TACG')"
      ],
      "execution_count": 14,
      "outputs": [
        {
          "output_type": "execute_result",
          "data": {
            "application/vnd.google.colaboratory.intrinsic+json": {
              "type": "string"
            },
            "text/plain": [
              "'ATGC'"
            ]
          },
          "metadata": {},
          "execution_count": 14
        }
      ]
    }
  ]
}